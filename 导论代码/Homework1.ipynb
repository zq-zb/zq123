{
 "cells": [
  {
   "cell_type": "markdown",
   "metadata": {},
   "source": [
    "1. 编写Python程序，打印\"数据科学与工程导论\"，并使用 print(chr(0x2605)) 语句将这句话包围起来。"
   ]
  },
  {
   "cell_type": "code",
   "execution_count": 2,
   "metadata": {},
   "outputs": [
    {
     "name": "stdout",
     "output_type": "stream",
     "text": [
      "★ 数据科学与工程导论 ★\n"
     ]
    }
   ],
   "source": [
    "print(chr(0x2605),\"数据科学与工程导论\",chr(0x2605));"
   ]
  },
  {
   "cell_type": "markdown",
   "metadata": {},
   "source": [
    "2. 写一个 Python 程序，输入 x, y, z 这三个数，将这三个数从小到大使用 print 函数打印出来。"
   ]
  },
  {
   "cell_type": "code",
   "execution_count": 29,
   "metadata": {},
   "outputs": [
    {
     "name": "stdout",
     "output_type": "stream",
     "text": [
      "1 2 5\n"
     ]
    }
   ],
   "source": [
    "#x=input();\n",
    "#y=input();\n",
    "#z=input();\n",
    "x=2\n",
    "y=5\n",
    "z=1\n",
    "if x<=y and y<=z :\n",
    "    print(x,y,z);\n",
    "elif x<=y and z<=y and x<=z:\n",
    "    print(x,z,y);\n",
    "elif y<=z and z<=x:\n",
    "    print(y,z,x);\n",
    "elif y<=z and x<=z and y<=x:\n",
    "    print(y,x,z);\n",
    "elif z<=x and x<=y:\n",
    "    print(z,x,y);\n",
    "elif z<=x and z<=y and y<=x:\n",
    "    print(z,y,x);"
   ]
  },
  {
   "cell_type": "markdown",
   "metadata": {},
   "source": [
    "3. 写一个 Python 程序，有 w, x, y, z 四个数，将这四个数从大到小使用 print 函数打印出来。"
   ]
  },
  {
   "cell_type": "code",
   "execution_count": 28,
   "metadata": {},
   "outputs": [
    {
     "name": "stdout",
     "output_type": "stream",
     "text": [
      "1 3 5 6\n"
     ]
    }
   ],
   "source": [
    "#x=int(input());\n",
    "#y=int(input());\n",
    "#z=int(input());\n",
    "#w=int(input());\n",
    "x=5\n",
    "y=3\n",
    "z=6\n",
    "w=1\n",
    "list1=[x,y,z,w];\n",
    "a=int(-1111);\n",
    "for i in range(4):\n",
    "    if a < list1[i]:\n",
    "        a=list1[i]\n",
    "        a1=i\n",
    "list1[a1]=list1[3];\n",
    "if list1[0]<=list1[1] and list1[1]<=list1[2] :\n",
    "    print(list1[0],list1[1],list1[2],a);\n",
    "elif list1[0]<=list1[1] and list1[2]<=list1[1] and list1[0]<=list1[2]:\n",
    "    print(list1[0],list1[2],list1[1],a);\n",
    "elif list1[1]<=list1[2] and list1[2]<=list1[0]:\n",
    "    print(list1[1],list1[2],list1[0],a);\n",
    "elif list1[1]<=list1[2] and list1[0]<=list1[2] and list1[1]<=list1[0]:\n",
    "    print(list1[1],list1[0],list1[2],a);\n",
    "elif list1[2]<=list1[0] and list1[0]<=list1[1]:\n",
    "    print(list1[2],list1[0],list1[1],a);\n",
    "elif list1[2]<=list1[0] and list1[2]<=list1[1] and list1[1]<=list1[0]:\n",
    "    print(list1[2],list1[1],list1[0],a);"
   ]
  },
  {
   "cell_type": "markdown",
   "metadata": {},
   "source": [
    "4. 写一个 Python 程序，输出 1-100 中的所有奇数。"
   ]
  },
  {
   "cell_type": "code",
   "execution_count": 3,
   "metadata": {},
   "outputs": [
    {
     "name": "stdout",
     "output_type": "stream",
     "text": [
      "1 3 5 7 9 11 13 15 17 19 21 23 25 27 29 31 33 35 37 39 41 43 45 47 49 51 53 55 57 59 61 63 65 67 69 71 73 75 77 79 81 83 85 87 89 91 93 95 97 99 "
     ]
    }
   ],
   "source": [
    "for i in range(101):\n",
    "    if i%2==1 :\n",
    "        print(i,end=\" \");"
   ]
  },
  {
   "cell_type": "markdown",
   "metadata": {},
   "source": [
    "5. 写一个 Python 程序，用 for 循环，求解 1 到 100 的和。"
   ]
  },
  {
   "cell_type": "code",
   "execution_count": 1,
   "metadata": {},
   "outputs": [
    {
     "name": "stdout",
     "output_type": "stream",
     "text": [
      "5050\n"
     ]
    }
   ],
   "source": [
    "i=1\n",
    "sum=0;\n",
    "for i in range(101):\n",
    "    sum=sum+i;\n",
    "print(sum)"
   ]
  },
  {
   "cell_type": "markdown",
   "metadata": {},
   "source": [
    "6. 写一个 Python 程序，分别用 for 和 while 循环实现对一个给定序列的倒排序输出。例如，给定 L=[1,2,3,4,5]，输出为 [5,4,3,2,1]。"
   ]
  },
  {
   "cell_type": "code",
   "execution_count": 7,
   "metadata": {},
   "outputs": [
    {
     "name": "stdout",
     "output_type": "stream",
     "text": [
      "5 4 3 2 1 \n",
      "\n",
      "5 4 3 2 1 "
     ]
    }
   ],
   "source": [
    "L=[1,2,3,4,5]\n",
    "for i in range(5):\n",
    "    print(L[4-i],end=\" \");\n",
    "print(\"\\n\");\n",
    "i=4;\n",
    "while i>=0:\n",
    "    print(L[i],end=\" \");\n",
    "    i=i-1; "
   ]
  },
  {
   "cell_type": "markdown",
   "metadata": {},
   "source": [
    "7. 写一个 Python 程序，判断一个输入的字符串 S 是否包含由两个或两个以上连续出现的相同字符组成的字符串。例如，abccccda 中就包含 cccc 这个由 4 个连续字符组成的字符串。"
   ]
  },
  {
   "cell_type": "code",
   "execution_count": 27,
   "metadata": {},
   "outputs": [
    {
     "name": "stdout",
     "output_type": "stream",
     "text": [
      "1\n"
     ]
    }
   ],
   "source": [
    "#s=input()\n",
    "s=['a','b','c','c','a']\n",
    "l=len(s)\n",
    "flag=0\n",
    "for i in range(l-1):\n",
    "    if s[i]==s[i+1]:\n",
    "        flag=1\n",
    "print(flag)"
   ]
  },
  {
   "cell_type": "markdown",
   "metadata": {},
   "source": [
    "8. 写一个 Python 程序，输入一个字符串 S，去掉其中所有的空格后输出。例如，“DataScience and Engineering”，去掉空格后为“DataScienceandEngineering”。"
   ]
  },
  {
   "cell_type": "code",
   "execution_count": 25,
   "metadata": {},
   "outputs": [
    {
     "name": "stdout",
     "output_type": "stream",
     "text": [
      "aavzq"
     ]
    }
   ],
   "source": [
    "#s=input()\n",
    "s=['a','a',' ','v','z','q']\n",
    "l=len(s)\n",
    "for i in range(l):\n",
    "    if s[i]!=\" \":\n",
    "        print(s[i],end=\"\");"
   ]
  },
  {
   "cell_type": "markdown",
   "metadata": {},
   "source": [
    "9. 请设计一个求 3 次方根的算法（不允许直接调用求方根的函数），并给出对应的 Python 程序。\n",
    "采用牛顿迭代法求解，迭代过程数学公式表示为：\n",
    "$ x_{n+1}=x_n-\\frac{f(x_n)}{f^{\\prime}(x_n)}$"
   ]
  },
  {
   "cell_type": "code",
   "execution_count": 23,
   "metadata": {},
   "outputs": [
    {
     "name": "stdout",
     "output_type": "stream",
     "text": [
      "3.0000000017936714\n"
     ]
    }
   ],
   "source": [
    "#num=input()\n",
    "num=27\n",
    "x=num\n",
    "err=1e-5\n",
    "while abs(num-(x*x*x))>=err:\n",
    "    x=(2*x+num/(x*x))/3.0\n",
    "print(x)"
   ]
  },
  {
   "cell_type": "markdown",
   "metadata": {},
   "source": [
    "10. 写一个 Python 程序，给定一个常数 n（n>0），求 n 的阶乘，即 n!=1×2×...×(n-1)×n。例如，4!=24，5!=120。"
   ]
  },
  {
   "cell_type": "code",
   "execution_count": 24,
   "metadata": {},
   "outputs": [
    {
     "name": "stdout",
     "output_type": "stream",
     "text": [
      "120\n"
     ]
    }
   ],
   "source": [
    "#n=input()\n",
    "n=5\n",
    "sum=1\n",
    "for i in range(1,n+1):\n",
    "    sum=sum*i\n",
    "print(sum)\n"
   ]
  }
 ],
 "metadata": {
  "kernelspec": {
   "display_name": "base",
   "language": "python",
   "name": "python3"
  },
  "language_info": {
   "codemirror_mode": {
    "name": "ipython",
    "version": 3
   },
   "file_extension": ".py",
   "mimetype": "text/x-python",
   "name": "python",
   "nbconvert_exporter": "python",
   "pygments_lexer": "ipython3",
   "version": "3.11.5"
  }
 },
 "nbformat": 4,
 "nbformat_minor": 2
}
